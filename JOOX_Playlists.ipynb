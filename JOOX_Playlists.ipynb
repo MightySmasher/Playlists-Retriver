{
 "cells": [
  {
   "cell_type": "code",
   "execution_count": null,
   "metadata": {},
   "outputs": [],
   "source": [
    "#import necessary libraries\n",
    "from bs4 import BeautifulSoup\n",
    "import requests\n",
    "import pandas as pd"
   ]
  },
  {
   "cell_type": "code",
   "execution_count": null,
   "metadata": {},
   "outputs": [],
   "source": [
    "# Create list\n",
    "position = []\n",
    "song = []\n",
    "artists = []\n",
    "playlist = []\n",
    "\n",
    "# url of the playlist you want to retrive the data\n",
    "url_list = [\n",
    "        'https://www.joox.com/th/playlist/uCmV2tPdyUovDU3aCDBSZg==',    # New Music 2022 [Inter]\n",
    "        'https://www.joox.com/th/playlist/g_zS9zKWB4TCFZ5DX5dSaQ==',    # New Music 2022 [Thai]\n",
    "        'https://www.joox.com/th/playlist/pki+nQwc_IAKR+r2rTHxmA==',    # New Music 2022 [K-POP]\n",
    "        'https://www.joox.com/th/playlist/QGLI4kkz9KzmlqZj_zbCUw==',    # New Music 2022 [C-POP]\n",
    "        'https://www.joox.com/th/playlist/DAXq57Heo+OMuDQKzi7V8g==',    # เพลงดังฟังอินเทรนด์ [Inter]\n",
    "        'https://www.joox.com/th/playlist/ZnRyb1Hv6gB3CzMtVy827w==',    # เพลงเพราะประจำวัน\n",
    "        'https://www.joox.com/th/playlist/78yS+nWthAdhUXyhlQBMVA==',    # หน้าใหม่น่าฟัง\n",
    "        'https://www.joox.com/th/playlist/LO9a5po3JJTNnWL0_8qvAA==',    # ฮิปฮอปฮิต\n",
    "        'https://www.joox.com/th/playlist/igyivNthxP7Uk1q28WGbsA==',    # Hot Songs Of The Month [May 2022]\n",
    "        'https://www.joox.com/th/playlist/8dxtZPh06jgcjzcg6jX6Kg==',    # TODAY'S HITS [Inter]\n",
    "        'https://www.joox.com/th/playlist/COGQC7pMX5Iq+sVF2c22sA=='    # เพลงใหม่มาแรง 2022\n",
    "\n",
    "    ]"
   ]
  },
  {
   "cell_type": "code",
   "execution_count": null,
   "metadata": {},
   "outputs": [],
   "source": [
    "# Scraping\n",
    "print(\"downloading...\")\n",
    "for urls in url_list:\n",
    "    destination = requests.get(urls)\n",
    "    soup = BeautifulSoup(destination.content, 'html.parser')\n",
    "\n",
    "    joox = soup.find_all(class_='jsx-2465069394 jsx-1241753679 songDetail time')\n",
    "    for i in joox:\n",
    "        song.append(i.b.text)\n",
    "        \n",
    "    joox = soup.find_all(class_='jsx-2465069394 jsx-1241753679 SongDesc')\n",
    "    for i in joox:\n",
    "        artists.append(i.text)\n",
    "    \n",
    "    for i in range(len(joox)):\n",
    "        position.append(i+1)\n",
    "        title = soup.find_all(class_='jsx-215821495 title')\n",
    "        for i2 in title:\n",
    "            playlist.append(i2.text)\n",
    "\n",
    "mydata = {\n",
    "    \"position\":position,\n",
    "    \"song\":song,\n",
    "    \"artists\":artists,\n",
    "    \"playlist\":playlist\n",
    "}\n",
    "\n",
    "df = pd.DataFrame(mydata)\n",
    "df.to_csv('joox.csv',index=False, encoding='utf-8')\n",
    "print(\"success!!\")"
   ]
  },
  {
   "cell_type": "code",
   "execution_count": null,
   "metadata": {},
   "outputs": [],
   "source": []
  }
 ],
 "metadata": {
  "kernelspec": {
   "display_name": "base",
   "language": "python",
   "name": "python3"
  },
  "language_info": {
   "codemirror_mode": {
    "name": "ipython",
    "version": 3
   },
   "file_extension": ".py",
   "mimetype": "text/x-python",
   "name": "python",
   "nbconvert_exporter": "python",
   "pygments_lexer": "ipython3",
   "version": "3.10.9"
  }
 },
 "nbformat": 4,
 "nbformat_minor": 2
}
